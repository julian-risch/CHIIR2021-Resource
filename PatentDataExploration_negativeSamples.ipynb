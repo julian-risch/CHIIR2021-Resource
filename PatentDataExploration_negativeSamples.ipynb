{
 "cells": [
  {
   "cell_type": "markdown",
   "metadata": {},
   "source": [
    "# Importiere benötigte Bibliotheken"
   ]
  },
  {
   "cell_type": "code",
   "execution_count": 8,
   "metadata": {},
   "outputs": [],
   "source": [
    "import pandas as pd\n",
    "import numpy as np\n",
    "import ast\n",
    "from collections import defaultdict, OrderedDict\n",
    "import matplotlib.pyplot as plt\n",
    "import sys\n",
    "import csv\n",
    "\n",
    "csv.field_size_limit(sys.maxsize)\n",
    "\n",
    "\n",
    "\n",
    "pd.set_option('display.max_colwidth', 50)"
   ]
  },
  {
   "cell_type": "markdown",
   "metadata": {},
   "source": [
    "# Importiere das Datenset"
   ]
  },
  {
   "cell_type": "code",
   "execution_count": 10,
   "metadata": {},
   "outputs": [
    {
     "data": {
      "text/html": [
       "<div>\n",
       "<style scoped>\n",
       "    .dataframe tbody tr th:only-of-type {\n",
       "        vertical-align: middle;\n",
       "    }\n",
       "\n",
       "    .dataframe tbody tr th {\n",
       "        vertical-align: top;\n",
       "    }\n",
       "\n",
       "    .dataframe thead th {\n",
       "        text-align: right;\n",
       "    }\n",
       "</style>\n",
       "<table border=\"1\" class=\"dataframe\">\n",
       "  <thead>\n",
       "    <tr style=\"text-align: right;\">\n",
       "      <th></th>\n",
       "      <th>patent_application_id</th>\n",
       "      <th>patent_citation_id</th>\n",
       "      <th>original_cited_patent_dnum</th>\n",
       "      <th>original_cited_patent_docNumber</th>\n",
       "      <th>original_cited_patent_country</th>\n",
       "      <th>application_claim_text</th>\n",
       "      <th>application_claim_number</th>\n",
       "      <th>extracted_paragraph_column_of_citation</th>\n",
       "      <th>actual_used_patent_dnum_application_number_for_paragraph_extraction</th>\n",
       "      <th>novelty_reducing_paragraphs</th>\n",
       "    </tr>\n",
       "  </thead>\n",
       "  <tbody>\n",
       "    <tr>\n",
       "      <td>0</td>\n",
       "      <td>2501127A120120919</td>\n",
       "      <td>2501127A120120919_0004</td>\n",
       "      <td>EP2037676A1</td>\n",
       "      <td>2037676</td>\n",
       "      <td>EP</td>\n",
       "      <td>&lt;claim-text&gt;A method for controlling the exec...</td>\n",
       "      <td>1</td>\n",
       "      <td>&lt;p id=\"p0006\" num=\"0006\"&gt;Referring to &lt;figref...</td>\n",
       "      <td>2037676</td>\n",
       "      <td>['6', ' 7', ' 8', ' 9', ' 10', ' 11', ' 12', '...</td>\n",
       "    </tr>\n",
       "    <tr>\n",
       "      <td>1</td>\n",
       "      <td>2501127A120120919</td>\n",
       "      <td>2501127A120120919_0004</td>\n",
       "      <td>EP2037676A1</td>\n",
       "      <td>2037676</td>\n",
       "      <td>EP</td>\n",
       "      <td>&lt;claim-text&gt;A method according to claim 1 whe...</td>\n",
       "      <td>2</td>\n",
       "      <td>&lt;p id=\"p0006\" num=\"0006\"&gt;Referring to &lt;figref...</td>\n",
       "      <td>2037676</td>\n",
       "      <td>['6', ' 7', ' 8', ' 9', ' 10', ' 11', ' 12', '...</td>\n",
       "    </tr>\n",
       "    <tr>\n",
       "      <td>2</td>\n",
       "      <td>2501127A120120919</td>\n",
       "      <td>2501127A120120919_0004</td>\n",
       "      <td>EP2037676A1</td>\n",
       "      <td>2037676</td>\n",
       "      <td>EP</td>\n",
       "      <td>&lt;claim-text&gt;A method according to claim 2 whe...</td>\n",
       "      <td>3</td>\n",
       "      <td>&lt;p id=\"p0006\" num=\"0006\"&gt;Referring to &lt;figref...</td>\n",
       "      <td>2037676</td>\n",
       "      <td>['6', ' 7', ' 8', ' 9', ' 10', ' 11', ' 12', '...</td>\n",
       "    </tr>\n",
       "    <tr>\n",
       "      <td>3</td>\n",
       "      <td>2501127A120120919</td>\n",
       "      <td>2501127A120120919_0004</td>\n",
       "      <td>EP2037676A1</td>\n",
       "      <td>2037676</td>\n",
       "      <td>EP</td>\n",
       "      <td>&lt;claim-text&gt;A method according to any of clai...</td>\n",
       "      <td>4</td>\n",
       "      <td>&lt;p id=\"p0006\" num=\"0006\"&gt;Referring to &lt;figref...</td>\n",
       "      <td>2037676</td>\n",
       "      <td>['6', ' 7', ' 8', ' 9', ' 10', ' 11', ' 12', '...</td>\n",
       "    </tr>\n",
       "    <tr>\n",
       "      <td>4</td>\n",
       "      <td>2501127A120120919</td>\n",
       "      <td>2501127A120120919_0004</td>\n",
       "      <td>EP2037676A1</td>\n",
       "      <td>2037676</td>\n",
       "      <td>EP</td>\n",
       "      <td>&lt;claim-text&gt;A method according to any of clai...</td>\n",
       "      <td>5</td>\n",
       "      <td>&lt;p id=\"p0006\" num=\"0006\"&gt;Referring to &lt;figref...</td>\n",
       "      <td>2037676</td>\n",
       "      <td>['6', ' 7', ' 8', ' 9', ' 10', ' 11', ' 12', '...</td>\n",
       "    </tr>\n",
       "  </tbody>\n",
       "</table>\n",
       "</div>"
      ],
      "text/plain": [
       "  patent_application_id      patent_citation_id original_cited_patent_dnum  \\\n",
       "0     2501127A120120919  2501127A120120919_0004                EP2037676A1   \n",
       "1     2501127A120120919  2501127A120120919_0004                EP2037676A1   \n",
       "2     2501127A120120919  2501127A120120919_0004                EP2037676A1   \n",
       "3     2501127A120120919  2501127A120120919_0004                EP2037676A1   \n",
       "4     2501127A120120919  2501127A120120919_0004                EP2037676A1   \n",
       "\n",
       "   original_cited_patent_docNumber original_cited_patent_country  \\\n",
       "0                          2037676                            EP   \n",
       "1                          2037676                            EP   \n",
       "2                          2037676                            EP   \n",
       "3                          2037676                            EP   \n",
       "4                          2037676                            EP   \n",
       "\n",
       "                              application_claim_text  \\\n",
       "0   <claim-text>A method for controlling the exec...   \n",
       "1   <claim-text>A method according to claim 1 whe...   \n",
       "2   <claim-text>A method according to claim 2 whe...   \n",
       "3   <claim-text>A method according to any of clai...   \n",
       "4   <claim-text>A method according to any of clai...   \n",
       "\n",
       "   application_claim_number  \\\n",
       "0                         1   \n",
       "1                         2   \n",
       "2                         3   \n",
       "3                         4   \n",
       "4                         5   \n",
       "\n",
       "              extracted_paragraph_column_of_citation  \\\n",
       "0   <p id=\"p0006\" num=\"0006\">Referring to <figref...   \n",
       "1   <p id=\"p0006\" num=\"0006\">Referring to <figref...   \n",
       "2   <p id=\"p0006\" num=\"0006\">Referring to <figref...   \n",
       "3   <p id=\"p0006\" num=\"0006\">Referring to <figref...   \n",
       "4   <p id=\"p0006\" num=\"0006\">Referring to <figref...   \n",
       "\n",
       "   actual_used_patent_dnum_application_number_for_paragraph_extraction  \\\n",
       "0                                            2037676                     \n",
       "1                                            2037676                     \n",
       "2                                            2037676                     \n",
       "3                                            2037676                     \n",
       "4                                            2037676                     \n",
       "\n",
       "                         novelty_reducing_paragraphs  \n",
       "0  ['6', ' 7', ' 8', ' 9', ' 10', ' 11', ' 12', '...  \n",
       "1  ['6', ' 7', ' 8', ' 9', ' 10', ' 11', ' 12', '...  \n",
       "2  ['6', ' 7', ' 8', ' 9', ' 10', ' 11', ' 12', '...  \n",
       "3  ['6', ' 7', ' 8', ' 9', ' 10', ' 11', ' 12', '...  \n",
       "4  ['6', ' 7', ' 8', ' 9', ' 10', ' 11', ' 12', '...  "
      ]
     },
     "execution_count": 10,
     "metadata": {},
     "output_type": "execute_result"
    }
   ],
   "source": [
    "#dataset = pd.read_csv(\"./jupyterTestFrame.csv\")\n",
    "\n",
    "#Vollständiges Datenset\n",
    "dataset = pd.read_csv(\"./frame_v3_negativeSamples.csv\", engine='python')\n",
    "\n",
    "\n",
    "# Zeige die ersten 5 Zeilen des Datensets\n",
    "dataset.head() # Alternative: print(dataset.head())"
   ]
  },
  {
   "cell_type": "markdown",
   "metadata": {},
   "source": [
    "# Allgemeine Statistiken"
   ]
  },
  {
   "cell_type": "markdown",
   "metadata": {},
   "source": [
    "### Größe des Datensets (Anzahl Zeilen)"
   ]
  },
  {
   "cell_type": "code",
   "execution_count": 11,
   "metadata": {},
   "outputs": [
    {
     "data": {
      "text/plain": [
       "232675"
      ]
     },
     "execution_count": 11,
     "metadata": {},
     "output_type": "execute_result"
    }
   ],
   "source": [
    "len(dataset.index)"
   ]
  },
  {
   "cell_type": "markdown",
   "metadata": {},
   "source": [
    "### Einzigartige Einträge pro Spalte"
   ]
  },
  {
   "cell_type": "code",
   "execution_count": 12,
   "metadata": {},
   "outputs": [
    {
     "data": {
      "text/plain": [
       "[]"
      ]
     },
     "execution_count": 12,
     "metadata": {},
     "output_type": "execute_result"
    },
    {
     "data": {
      "image/png": "[encoded data removed]",
      "text/plain": [
       "<Figure size 1080x360 with 1 Axes>"
      ]
     },
     "metadata": {
      "needs_background": "light"
     },
     "output_type": "display_data"
    }
   ],
   "source": [
    "plotdata = [len(dataset.patent_application_id.unique()),\n",
    "len(dataset.patent_citation_id.unique()),\n",
    "len(dataset.original_cited_patent_dnum.unique()),\n",
    "len(dataset.original_cited_patent_docNumber.unique()),\n",
    "# len(dataset.original_cited_patent_country.unique()), # alles gleich, Achtung: Diese Spalte ist nicht sonderlich aussagekräftig, da sich exakte Aufzählungen wiederholen müssen\n",
    "# len(dataset.application_claim_text.unique()), # fast alles unique, Achtung: Diese Spalte ist nicht sonderlich aussagekräftig, da sich exakte Aufzählungen wiederholen müssen\n",
    "len(dataset.application_claim_number.unique()),\n",
    "len(dataset.extracted_paragraph_column_of_citation.unique()),\t\n",
    "len(dataset.actual_used_patent_dnum_application_number_for_paragraph_extraction.unique()),\t\n",
    "len(dataset.novelty_reducing_paragraphs.unique())] # Achtung: Diese Spalte ist nicht sonderlich aussagekräftig, da sich exakte Aufzählungen wiederholen müssen\n",
    "\n",
    "# all_labels = ['patent_application_id', 'patent_citation_id', 'original_cited_patent_dnum','original_cited_patent_docNumber','original_cited_patent_country','application_claim_text','application_claim_number','extracted_paragraph_column_of_citation','actual_used_patent_dnum_application_number_for_paragraph_extraction','novelty_reducing_paragraphs']\n",
    "labels = ['patent_application_id', 'patent_citation_id', 'original_cited_patent_dnum','original_cited_patent_docNumber','application_claim_number','extracted_paragraph_column_of_citation','actual_used_patent_dnum_application_number_for_paragraph_extraction','novelty_reducing_paragraphs']\n",
    "\n",
    "data = pd.DataFrame(plotdata, index=labels, columns=['Unique Values'])\n",
    "\n",
    "ax = data.plot(kind=\"bar\",use_index=True, rot=90, xticks=range(0,max(plotdata), int(max(plotdata)/10)),figsize=(15,5))               \n",
    "                                              \n",
    "# Annotiere die Balken zusätzlich mit ihren jeweiligen Werten als Label\n",
    "for i, label in enumerate(list(data.index)):\n",
    "               sum = data.loc[label]['Unique Values']\n",
    "               ax.annotate(str(sum), (i-0.09, sum+1.5))\n",
    "            \n",
    "\n",
    "ax.plot(figsize=(10,50))\n"
   ]
  },
  {
   "cell_type": "markdown",
   "metadata": {},
   "source": [
    "### Anzahl der neuheitsschädlichen Paragraphen in 'novelty_reducing_paragraphs' vs. Anzahl der extrahierten Paragraphen in 'extracted_paragraph_column_of_citation'"
   ]
  },
  {
   "cell_type": "code",
   "execution_count": 14,
   "metadata": {},
   "outputs": [],
   "source": [
    "# Zähle neuheitsschädliche Paragraphen in Liste\n",
    "counting_novelty_reducing_paragraphs=defaultdict(int)\n",
    "for element in dataset.novelty_reducing_paragraphs.apply(ast.literal_eval):\n",
    "    counting_novelty_reducing_paragraphs[len(element)] += 1\n",
    "\n",
    "#print(counting_novelty_reducing_paragraphs)\n",
    "sorted_counting_novelty_reducing_paragraphs=[(k,counting_novelty_reducing_paragraphs[k]) for k in sorted(counting_novelty_reducing_paragraphs)]\n",
    "#print(sorted_counting_novelty_reducing_paragraphs)\n",
    "\n",
    "#ACHTUNG: LÖSCHE HIER FEHLERHAFTEN WERT, DA ER BALKENDIAGRAMM ZERSCHIEßT!!!!\n",
    "#sorted_counting_novelty_reducing_paragraphs.remove((404520,6))\n",
    "#ACHTUNG: LÖSCHE HIER FEHLERHAFTEN WERT, DA ER BALKENDIAGRAMM ZERSCHIEßT!!!!\n",
    "\n",
    "\n",
    "# Zähle Anzahl tatsächlich extrahierter Paragraphen\n",
    "counting_extracted_paragraph_column_of_citation=defaultdict(int)\n",
    "for row in dataset.extracted_paragraph_column_of_citation:\n",
    "    row_count=row.count(\"<p id\")\n",
    "    counting_extracted_paragraph_column_of_citation[row_count] += 1\n",
    "\n",
    "#print(counting_extracted_paragraph_column_of_citation)\n",
    "#print([(k, counting_extracted_paragraph_column_of_citation[k]) for k in sorted(counting_extracted_paragraph_column_of_citation, key=counting_extracted_paragraph_column_of_citation.get, reverse=False)])\n",
    "sorted_counting_extracted_paragraph_column_of_citation=[(k,counting_extracted_paragraph_column_of_citation[k]) for k in sorted(counting_extracted_paragraph_column_of_citation)]\n",
    "\n",
    "#print(sorted_counting_extracted_paragraph_column_of_citation)\n",
    "\n",
    "\n",
    "\n",
    "\n",
    "\n",
    "\n"
   ]
  },
  {
   "cell_type": "code",
   "execution_count": 15,
   "metadata": {},
   "outputs": [
    {
     "data": {
      "text/plain": [
       "<matplotlib.axes._subplots.AxesSubplot at 0x7fecc4b27710>"
      ]
     },
     "execution_count": 15,
     "metadata": {},
     "output_type": "execute_result"
    },
    {
     "data": {
      "image/png": "[encoded data removed]",
      "text/plain": [
       "<Figure size 1440x720 with 2 Axes>"
      ]
     },
     "metadata": {
      "needs_background": "light"
     },
     "output_type": "display_data"
    }
   ],
   "source": [
    "######################## Plot1 für novelty reducing ########################\n",
    "\n",
    "labels = [i[0] for i in sorted_counting_novelty_reducing_paragraphs]\n",
    "plotdata = [i[1] for i in sorted_counting_novelty_reducing_paragraphs]\n",
    "labels2 = [i[0] for i in sorted_counting_extracted_paragraph_column_of_citation]\n",
    "plotdata2 = [i[1] for i in sorted_counting_extracted_paragraph_column_of_citation]\n",
    "\n",
    "\n",
    "data = pd.DataFrame(plotdata, index=labels, columns=['Novelty Reducing Paragraphes'])\n",
    "#ax = data.plot(kind=\"bar\",use_index=True, rot=90, xticks=range(0,max(plotdata), int(max(plotdata)/10)),figsize=(15,5))               \n",
    "\n",
    "\n",
    "data2 = pd.DataFrame(plotdata2, index=labels2, columns=['Eventually Extracted Paragraphes'])\n",
    "#ax2 = data.plot(kind=\"bar\",use_index=True, rot=90, xticks=range(0,max(plotdata2), int(max(plotdata2)/10)),figsize=(15,5))               \n",
    "                  \n",
    "# Annotiere die Balken zusätzlich mit ihren jeweiligen Werten als Label\n",
    "#for i, label in enumerate(list(data.index)):\n",
    "  #  sum = data.loc[label]['Novelty Reducing Paragraphes']\n",
    " #   ax.annotate(str(sum), (i-1, sum+1))\n",
    "\n",
    "\n",
    "fig = plt.figure()\n",
    "\n",
    "\n",
    "ax = fig.add_subplot(2,1,1)\n",
    "data.plot(ax=ax,kind=\"bar\",use_index=True, rot=90, xticks=range(0,max(plotdata), int(max(plotdata)/10)),figsize=(20,10))               \n",
    "#plt.title('A tale of 2 subplots')\n",
    "#plt.ylabel('Damped oscillation')\n",
    "\n",
    "ax2 = fig.add_subplot(2,1,2)\n",
    "data2.plot(ax=ax2,kind=\"bar\",use_index=True, rot=90, xticks=range(0,max(plotdata2), int(max(plotdata2)/10)),figsize=(20,10))               \n",
    "#plt.xlabel('time (s)')\n",
    "#plt.ylabel('Undamped')\n",
    "\n",
    "\n",
    "\n",
    "\n",
    "\n",
    "\n",
    "\n"
   ]
  },
  {
   "cell_type": "markdown",
   "metadata": {},
   "source": [
    "# Funktionsdefinition"
   ]
  },
  {
   "cell_type": "code",
   "execution_count": null,
   "metadata": {},
   "outputs": [],
   "source": [
    "def groupByQuery(eintrag,eintrag_spalte):\n",
    "    return dataset.groupby(eintrag_spalte).get_group(eintrag)  "
   ]
  },
  {
   "cell_type": "markdown",
   "metadata": {},
   "source": [
    "# Beispiele für die Datenexploration"
   ]
  },
  {
   "cell_type": "markdown",
   "metadata": {},
   "source": [
    "## Liefere alle Einträge zu einem Patentantrag (oder einem anderen Eintrag)\n",
    "#### Konkret: Liefere mir alle Spalten, die zum Patentantrag '2500486A120120919' (patent_application_id) gehören."
   ]
  },
  {
   "cell_type": "code",
   "execution_count": null,
   "metadata": {},
   "outputs": [],
   "source": [
    "# groupbyQuery(eintrag, eintrag_spalte) ist eine Funktion, die unser Datenset nach einer Spalte gruppiert, deren Namen in \n",
    "# \"eintrag_spalte\" übergeben wird. Anschließend werden nur jene Zeilen ausgegeben, die in der Spalte die Variable \"eintrag\" enthalten.\n",
    "# Ein Beispiel:\n",
    "result = groupByQuery(\"2500486\", \"original_cited_patent_docNumber\")\n",
    "print(result)"
   ]
  },
  {
   "cell_type": "code",
   "execution_count": null,
   "metadata": {},
   "outputs": [],
   "source": [
    "# Mit\"result = ....\" speichern wir das Ergebnis in ein Objekt, dass wir weiterverwenden können. \n",
    "# Zum Beispiel können wir nun das Ergebnis ausgeben mit print(result).  \n",
    "# Möchten wir nicht alle Spalten in unserer Ausgabe erhalten, so können wir unser Ergebnis \n",
    "# kürzen. \n",
    "my_selected_columns = result[[\"patent_application_id\",\"patent_citation_id\",\"extracted_paragraph_column_of_citation\"]]\n",
    "print(my_selected_columns)"
   ]
  },
  {
   "cell_type": "code",
   "execution_count": null,
   "metadata": {},
   "outputs": [],
   "source": [
    "# Dies funktioniert natürlich auch für das ursprüngliche Datenset\n",
    "another_selected_columns = result[[\"patent_application_id\",\"application_claim_text\",\"extracted_paragraph_column_of_citation\",\"novelty_reducing_paragraphs\"]]\n",
    "print(another_selected_columns)"
   ]
  },
  {
   "cell_type": "code",
   "execution_count": null,
   "metadata": {},
   "outputs": [],
   "source": [
    "# Da Werte, wie z.B. die extrahierten Paragraphen oft zu lang sind für eine gute Darstellung, werden Sie abgeschnitten.\n",
    "# Dies kann abgestellt werden mit folgender Option\n",
    "pd.set_option('display.max_colwidth', -1)\n",
    "# Wenn wir uns nun die letzte Ausgabe erneut anzeigen:\n",
    "print(another_selected_columns)"
   ]
  },
  {
   "cell_type": "markdown",
   "metadata": {},
   "source": [
    "## Auswahl von Zeilen mit Zeilennummerierung (Index)"
   ]
  },
  {
   "cell_type": "code",
   "execution_count": null,
   "metadata": {},
   "outputs": [],
   "source": [
    "# Da dies immer noch sehr übersichtlich ist, wollen wir nun nur die erste Zeile des Ergebnis\n",
    "print(another_selected_columns.iloc[0])"
   ]
  },
  {
   "cell_type": "code",
   "execution_count": null,
   "metadata": {},
   "outputs": [],
   "source": [
    "# Oder z.B. die zweite bis vierte Zeile mithilfe der Syntax iloc[Anfang:Ende]. Beachte dabei, dass wir bei 0 \n",
    "# anfangen zu zählen und das Ende-1 ausgegeben wird. Haben wir also die Zeilen 0,1,2,3,4 gibt [1:4] uns die \n",
    "# Zeilen mit dem Index 1,2,3 aus (umgangssprachlich die zweite bis vierte Zeile).\n",
    "auswahl = another_selected_columns.iloc[1:4]\n",
    "# Zur besseren Übersicht, schalten wir die Kurzansicht wieder ein\n",
    "pd.set_option('display.max_colwidth', 50)\n",
    "# Und lassen uns die Ausgabe nochmals anzeigen\n",
    "print(auswahl)"
   ]
  },
  {
   "cell_type": "code",
   "execution_count": null,
   "metadata": {},
   "outputs": [],
   "source": [
    "# Wir können auch in einzelnen Zellen suchen und uns etwaige Zeilen ausgeben lassen\n",
    "# Syntax datenobject[datenobject[Spalte in der ich suche].str.contains(Suchphrase)]\n",
    "pd.set_option('display.max_colwidth', -1) # Zurücksetzen der Option\n",
    "# Gebe alle Zeilen aus meiner Auswahl aus, die einen Paragraphen Nummer 30 in der Spalte 'novelty_reducing_paragraphs'\n",
    "# als neuheitsschädlich beinhalten\n",
    "print(auswahl[auswahl['extracted_paragraph_column_of_citation'].str.contains(\"invention\")])"
   ]
  },
  {
   "cell_type": "code",
   "execution_count": null,
   "metadata": {},
   "outputs": [],
   "source": [
    "# Gebe alle Zeilen aus meiner Auswahl aus, die in der Spalte 'application_claim_text' den Text \"to any\" beinhalten\n",
    "pd.set_option('display.max_colwidth', -1) # Volle Breite zum Lesen der Inhalte\n",
    "print(auswahl[auswahl['application_claim_text'].str.contains(\"to any\")])\n",
    "pd.set_option('display.max_colwidth', 50) # Zurücksetzen der Option"
   ]
  },
  {
   "cell_type": "markdown",
   "metadata": {},
   "source": [
    "# Ausgabe in andere Dateiformate"
   ]
  },
  {
   "cell_type": "markdown",
   "metadata": {},
   "source": [
    "### Nun haben wir eine mögliche interessante Auswahl getroffen und wollen sie wiederum in ein anderes Ausgabeformat exportieren, um sie weiterzuverwenden oder zu speichern.\n"
   ]
  },
  {
   "cell_type": "markdown",
   "metadata": {},
   "source": [
    "## CSV Export"
   ]
  },
  {
   "cell_type": "code",
   "execution_count": null,
   "metadata": {},
   "outputs": [],
   "source": [
    "# Syntax: nameDesObjekts.to_csv(dateipfad+Name, index=false)\n",
    "# Nach Ausführung dieses Feldes wird die Datei im gleichen Verzeichnis wie dieses Notebook erstellt. \n",
    "# Es wird keine zusätzliche Bestätigung ausgegeben.\n",
    "# Die verkürzte Schreibweise betrifft nur die Anzeige, es werden also immer vollständige Daten in Dateien geschrieben. \n",
    "auswahl.to_csv(\"./data_out.csv\",index=False)"
   ]
  },
  {
   "cell_type": "markdown",
   "metadata": {},
   "source": [
    "## HTML Export"
   ]
  },
  {
   "cell_type": "code",
   "execution_count": null,
   "metadata": {},
   "outputs": [],
   "source": [
    "# Syntax: nameDesObjekts.to_html(dateipfad+Name, index=false)\n",
    "auswahl.to_html('./data_out.html', index=False)"
   ]
  },
  {
   "cell_type": "code",
   "execution_count": null,
   "metadata": {},
   "outputs": [],
   "source": []
  },
  {
   "cell_type": "code",
   "execution_count": null,
   "metadata": {},
   "outputs": [],
   "source": []
  },
  {
   "cell_type": "code",
   "execution_count": null,
   "metadata": {},
   "outputs": [],
   "source": []
  }
 ],
 "metadata": {
  "kernelspec": {
   "display_name": "Python 3",
   "language": "python",
   "name": "python3"
  },
  "language_info": {
   "codemirror_mode": {
    "name": "ipython",
    "version": 3
   },
   "file_extension": ".py",
   "mimetype": "text/x-python",
   "name": "python",
   "nbconvert_exporter": "python",
   "pygments_lexer": "ipython3",
   "version": "3.7.4"
  }
 },
 "nbformat": 4,
 "nbformat_minor": 2
}
